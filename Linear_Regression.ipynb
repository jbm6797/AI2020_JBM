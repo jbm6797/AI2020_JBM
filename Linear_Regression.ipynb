{
  "nbformat": 4,
  "nbformat_minor": 0,
  "metadata": {
    "colab": {
      "name": "Linear_Regression.ipynb",
      "provenance": [],
      "collapsed_sections": []
    },
    "kernelspec": {
      "name": "python3",
      "display_name": "Python 3"
    }
  },
  "cells": [
    {
      "cell_type": "code",
      "metadata": {
        "id": "TGXxgwq3EUHj",
        "colab_type": "code",
        "colab": {
          "base_uri": "https://localhost:8080/",
          "height": 370
        },
        "outputId": "509a652e-44b4-4135-ff67-bfad624ae8c7"
      },
      "source": [
        "import tensorflow.compat.v1 as tf\n",
        "tf.disable_v2_behavior()\n",
        "\n",
        "import numpy as np\n",
        "import matplotlib.pyplot as plt\n",
        "\n",
        "x_train = [1, 2, 3]\n",
        "\n",
        "y_train = [2+1 +0.1, 4+1 -0.2, 6+1 +0.15]\n",
        "\n",
        "plt.plot(x_train, y_train,'.-')\n",
        "plt.xlabel('X')\n",
        "plt.ylabel('Y')"
      ],
      "execution_count": 1,
      "outputs": [
        {
          "output_type": "stream",
          "text": [
            "WARNING:tensorflow:From /usr/local/lib/python3.6/dist-packages/tensorflow/python/compat/v2_compat.py:96: disable_resource_variables (from tensorflow.python.ops.variable_scope) is deprecated and will be removed in a future version.\n",
            "Instructions for updating:\n",
            "non-resource variables are not supported in the long term\n"
          ],
          "name": "stdout"
        },
        {
          "output_type": "execute_result",
          "data": {
            "text/plain": [
              "Text(0, 0.5, 'Y')"
            ]
          },
          "metadata": {
            "tags": []
          },
          "execution_count": 1
        },
        {
          "output_type": "display_data",
          "data": {
            "image/png": "[encoded data removed]",
            "text/plain": [
              "<Figure size 432x288 with 1 Axes>"
            ]
          },
          "metadata": {
            "tags": [],
            "needs_background": "light"
          }
        }
      ]
    },
    {
      "cell_type": "code",
      "metadata": {
        "id": "0gnH7sSBE8iG",
        "colab_type": "code",
        "colab": {}
      },
      "source": [
        "w0 = 5\n",
        "b0 = -12"
      ],
      "execution_count": 2,
      "outputs": []
    },
    {
      "cell_type": "code",
      "metadata": {
        "id": "ctgoPSqnFiNM",
        "colab_type": "code",
        "colab": {}
      },
      "source": [
        "W = tf.Variable(w0*tf.ones([1]), name='weight')\n",
        "b = tf.Variable(b0*tf.ones([1]), name='bias')"
      ],
      "execution_count": 3,
      "outputs": []
    },
    {
      "cell_type": "code",
      "metadata": {
        "id": "_8MPkFlAFnqn",
        "colab_type": "code",
        "colab": {}
      },
      "source": [
        "hypothesis = x_train * W + b"
      ],
      "execution_count": 4,
      "outputs": []
    },
    {
      "cell_type": "code",
      "metadata": {
        "id": "K5nwhUcUFrSa",
        "colab_type": "code",
        "colab": {}
      },
      "source": [
        "cost = tf.reduce_mean(tf.square(hypothesis - y_train))"
      ],
      "execution_count": 5,
      "outputs": []
    },
    {
      "cell_type": "code",
      "metadata": {
        "id": "6BomuR88FueI",
        "colab_type": "code",
        "colab": {}
      },
      "source": [
        "optimizer = tf.train.GradientDescentOptimizer(learning_rate=0.01)\n",
        "#optimizer = tf.compat.v1.train.GradientDescentOptimizer(learning_rate=0.01)\n",
        "train = optimizer.minimize(cost)"
      ],
      "execution_count": 6,
      "outputs": []
    },
    {
      "cell_type": "code",
      "metadata": {
        "id": "7ynml6lJFyHP",
        "colab_type": "code",
        "colab": {}
      },
      "source": [
        "sess = tf.Session()"
      ],
      "execution_count": 7,
      "outputs": []
    },
    {
      "cell_type": "code",
      "metadata": {
        "id": "jaia3PHuF4Bo",
        "colab_type": "code",
        "colab": {}
      },
      "source": [
        "sess.run(tf.global_variables_initializer())"
      ],
      "execution_count": 8,
      "outputs": []
    },
    {
      "cell_type": "code",
      "metadata": {
        "id": "XlhU0G4EF6eT",
        "colab_type": "code",
        "colab": {}
      },
      "source": [
        "nb_epoch = 2000"
      ],
      "execution_count": 9,
      "outputs": []
    },
    {
      "cell_type": "code",
      "metadata": {
        "id": "OBH0SuTTF8r8",
        "colab_type": "code",
        "colab": {
          "base_uri": "https://localhost:8080/",
          "height": 105
        },
        "outputId": "01f2e1fd-5f99-4416-bf52-ca851244980d"
      },
      "source": [
        "for i in range(100):\n",
        "  if i % 20 ==0:\n",
        "    print(i)"
      ],
      "execution_count": 10,
      "outputs": [
        {
          "output_type": "stream",
          "text": [
            "0\n",
            "20\n",
            "40\n",
            "60\n",
            "80\n"
          ],
          "name": "stdout"
        }
      ]
    },
    {
      "cell_type": "code",
      "metadata": {
        "id": "Zw_2iJtbGAqE",
        "colab_type": "code",
        "colab": {}
      },
      "source": [
        "vw = [] \n",
        "vb = []\n",
        "vcost = []"
      ],
      "execution_count": 11,
      "outputs": []
    },
    {
      "cell_type": "code",
      "metadata": {
        "id": "Ne3XCeBEGDrW",
        "colab_type": "code",
        "colab": {
          "base_uri": "https://localhost:8080/",
          "height": 386
        },
        "outputId": "95a2644e-35cb-49c9-ad23-60a57e2fa9c0"
      },
      "source": [
        "for step in range(nb_epoch+1):\n",
        "  sess.run(train)\n",
        "  w1 = sess.run(W)[0] # slope\n",
        "  b1 = sess.run(b)[0] # bias\n",
        "  cost1 = sess.run(cost)\n",
        "  vw.append(w1)\n",
        "  vb.append(b1)\n",
        "  vcost.append(cost1)\n",
        "  if step % 100 == 0: # 100번마다 결과 출력해보기 (안해도 되지만..)\n",
        "    print(step, '--', cost1, '--', w1, '--', b1)"
      ],
      "execution_count": 12,
      "outputs": [
        {
          "output_type": "stream",
          "text": [
            "0 -- 47.806065 -- 5.241 -- -11.859667\n",
            "100 -- 12.644501 -- 6.1511183 -- -8.413013\n",
            "200 -- 7.8225045 -- 5.2685175 -- -6.406613\n",
            "300 -- 4.8427997 -- 4.574701 -- -4.8294024\n",
            "400 -- 3.0015285 -- 4.0292983 -- -3.5895753\n",
            "500 -- 1.8637304 -- 3.6005616 -- -2.6149547\n",
            "600 -- 1.1606402 -- 3.263535 -- -1.8488144\n",
            "700 -- 0.7261731 -- 2.9986017 -- -1.2465585\n",
            "800 -- 0.45769897 -- 2.7903397 -- -0.77313006\n",
            "900 -- 0.29179797 -- 2.626627 -- -0.40097266\n",
            "1000 -- 0.18928118 -- 2.4979334 -- -0.10842239\n",
            "1100 -- 0.12593222 -- 2.3967688 -- 0.12154846\n",
            "1200 -- 0.08678614 -- 2.3172443 -- 0.3023268\n",
            "1300 -- 0.06259633 -- 2.2547305 -- 0.4444353\n",
            "1400 -- 0.0476485 -- 2.205589 -- 0.5561454\n",
            "1500 -- 0.038411696 -- 2.1669593 -- 0.6439596\n",
            "1600 -- 0.0327039 -- 2.1365929 -- 0.71298945\n",
            "1700 -- 0.029176824 -- 2.1127222 -- 0.7672534\n",
            "1800 -- 0.026997337 -- 2.0939577 -- 0.80990964\n",
            "1900 -- 0.025650464 -- 2.079207 -- 0.84344167\n",
            "2000 -- 0.024818258 -- 2.0676117 -- 0.8698001\n"
          ],
          "name": "stdout"
        }
      ]
    },
    {
      "cell_type": "code",
      "metadata": {
        "id": "INVBoeLFGLu8",
        "colab_type": "code",
        "colab": {
          "base_uri": "https://localhost:8080/",
          "height": 52
        },
        "outputId": "f04c195a-88e3-4377-95e0-a665db0c4bfe"
      },
      "source": [
        "w1 = sess.run(W)[0] # slope\n",
        "b1 = sess.run(b)[0] # bias\n",
        "str1 = 'y={:.3}x + {:.3}'.format(w1, b1)\n",
        "print(w1, b1)\n",
        "print(str1)"
      ],
      "execution_count": 13,
      "outputs": [
        {
          "output_type": "stream",
          "text": [
            "2.0676117 0.8698001\n",
            "y=2.07x + 0.87\n"
          ],
          "name": "stdout"
        }
      ]
    },
    {
      "cell_type": "code",
      "metadata": {
        "id": "ehSv7ZTAGOhN",
        "colab_type": "code",
        "colab": {
          "base_uri": "https://localhost:8080/",
          "height": 313
        },
        "outputId": "2043489b-22e4-4f6e-a8de-e8239567bbc4"
      },
      "source": [
        "plt.figure(1)\n",
        "plt.plot(x_train, y_train,'o')\n",
        "x1 = np.min(x_train)-1, np.max(x_train)+1\n",
        "y1 = np.dot(w1,x1) + b1\n",
        "plt.plot(x1, y1)\n",
        "plt.grid()\n",
        "plt.xlabel('epoch')\n",
        "plt.title(str1)"
      ],
      "execution_count": 14,
      "outputs": [
        {
          "output_type": "execute_result",
          "data": {
            "text/plain": [
              "Text(0.5, 1.0, 'y=2.07x + 0.87')"
            ]
          },
          "metadata": {
            "tags": []
          },
          "execution_count": 14
        },
        {
          "output_type": "display_data",
          "data": {
            "image/png": "[encoded data removed]",
            "text/plain": [
              "<Figure size 432x288 with 1 Axes>"
            ]
          },
          "metadata": {
            "tags": [],
            "needs_background": "light"
          }
        }
      ]
    },
    {
      "cell_type": "code",
      "metadata": {
        "id": "woeyo0KwGRWj",
        "colab_type": "code",
        "colab": {
          "base_uri": "https://localhost:8080/",
          "height": 297
        },
        "outputId": "ec75ea2f-b6e2-4d31-f7ce-d2c5c7fd6d93"
      },
      "source": [
        "plt.plot(vb)\n",
        "plt.grid()\n",
        "plt.xlabel('epoch')"
      ],
      "execution_count": 15,
      "outputs": [
        {
          "output_type": "execute_result",
          "data": {
            "text/plain": [
              "Text(0.5, 0, 'epoch')"
            ]
          },
          "metadata": {
            "tags": []
          },
          "execution_count": 15
        },
        {
          "output_type": "display_data",
          "data": {
            "image/png": "[encoded data removed]",
            "text/plain": [
              "<Figure size 432x288 with 1 Axes>"
            ]
          },
          "metadata": {
            "tags": [],
            "needs_background": "light"
          }
        }
      ]
    },
    {
      "cell_type": "code",
      "metadata": {
        "id": "UNTPZ7IGGVaE",
        "colab_type": "code",
        "colab": {
          "base_uri": "https://localhost:8080/",
          "height": 282
        },
        "outputId": "e8f1f4f2-b69a-4ba8-c46b-e07281ab6238"
      },
      "source": [
        "plt.plot(vw)"
      ],
      "execution_count": 16,
      "outputs": [
        {
          "output_type": "execute_result",
          "data": {
            "text/plain": [
              "[<matplotlib.lines.Line2D at 0x7f1ec70479b0>]"
            ]
          },
          "metadata": {
            "tags": []
          },
          "execution_count": 16
        },
        {
          "output_type": "display_data",
          "data": {
            "image/png": "[encoded data removed]",
            "text/plain": [
              "<Figure size 432x288 with 1 Axes>"
            ]
          },
          "metadata": {
            "tags": [],
            "needs_background": "light"
          }
        }
      ]
    },
    {
      "cell_type": "code",
      "metadata": {
        "id": "NEznmr4FGYZD",
        "colab_type": "code",
        "colab": {
          "base_uri": "https://localhost:8080/",
          "height": 286
        },
        "outputId": "2532841f-7cc4-45a3-c8a6-26b89918b113"
      },
      "source": [
        "plt.plot(vcost)"
      ],
      "execution_count": 17,
      "outputs": [
        {
          "output_type": "execute_result",
          "data": {
            "text/plain": [
              "[<matplotlib.lines.Line2D at 0x7f1ec702fe10>]"
            ]
          },
          "metadata": {
            "tags": []
          },
          "execution_count": 17
        },
        {
          "output_type": "display_data",
          "data": {
            "image/png": "[encoded data removed]",
            "text/plain": [
              "<Figure size 432x288 with 1 Axes>"
            ]
          },
          "metadata": {
            "tags": [],
            "needs_background": "light"
          }
        }
      ]
    },
    {
      "cell_type": "code",
      "metadata": {
        "id": "Q2o9_ZxZGbMK",
        "colab_type": "code",
        "colab": {}
      },
      "source": [
        ""
      ],
      "execution_count": 17,
      "outputs": []
    }
  ]
}