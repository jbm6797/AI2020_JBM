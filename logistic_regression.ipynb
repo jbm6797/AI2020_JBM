{
  "nbformat": 4,
  "nbformat_minor": 0,
  "metadata": {
    "colab": {
      "name": "logistic_regression.ipynb",
      "provenance": []
    },
    "kernelspec": {
      "name": "python3",
      "display_name": "Python 3"
    }
  },
  "cells": [
    {
      "cell_type": "markdown",
      "metadata": {
        "id": "_RWU7yxjSe80",
        "colab_type": "text"
      },
      "source": [
        "### Logistic Regression 이해하기 : 매우 중요"
      ]
    },
    {
      "cell_type": "code",
      "metadata": {
        "id": "Tq9fZMMxSbuI",
        "colab_type": "code",
        "colab": {
          "base_uri": "https://localhost:8080/",
          "height": 90
        },
        "outputId": "d874648e-01c0-4266-a494-1e14e1bf6f0a"
      },
      "source": [
        "#import tensorflow as tf\n",
        "import tensorflow.compat.v1 as tf\n",
        "tf.disable_v2_behavior()"
      ],
      "execution_count": 1,
      "outputs": [
        {
          "output_type": "stream",
          "text": [
            "WARNING:tensorflow:From /usr/local/lib/python3.6/dist-packages/tensorflow/python/compat/v2_compat.py:96: disable_resource_variables (from tensorflow.python.ops.variable_scope) is deprecated and will be removed in a future version.\n",
            "Instructions for updating:\n",
            "non-resource variables are not supported in the long term\n"
          ],
          "name": "stdout"
        }
      ]
    },
    {
      "cell_type": "code",
      "metadata": {
        "id": "vn440j6fSl_n",
        "colab_type": "code",
        "colab": {}
      },
      "source": [
        "import numpy as np\n",
        "import matplotlib.pyplot as plt"
      ],
      "execution_count": 2,
      "outputs": []
    },
    {
      "cell_type": "code",
      "metadata": {
        "id": "DTUpTL6nSsea",
        "colab_type": "code",
        "colab": {}
      },
      "source": [
        "x_data = [[1,2], [2,3], [3,1], [4,3], [5,3], [6,2]]\n",
        "y_data = [[0],[0],[0],[1],[1],[1]]"
      ],
      "execution_count": 3,
      "outputs": []
    },
    {
      "cell_type": "code",
      "metadata": {
        "id": "WZlJaigVSuHm",
        "colab_type": "code",
        "colab": {}
      },
      "source": [
        "X = tf.placeholder(tf.float32, shape=[None, 2])\n",
        "Y = tf.placeholder(tf.float32, shape=[None, 1])\n",
        " \n",
        "# input = 2, output = 1 \n",
        "W = tf.Variable(tf.random_normal([2,1]), name='weight')\n",
        "# output = 1\n",
        "b = tf.Variable(tf.random_normal([1]), name='bias')"
      ],
      "execution_count": 4,
      "outputs": []
    },
    {
      "cell_type": "markdown",
      "metadata": {
        "id": "1RWDtjhfSvn-",
        "colab_type": "text"
      },
      "source": [
        "### Hypothesis"
      ]
    },
    {
      "cell_type": "code",
      "metadata": {
        "id": "_thSy_RNSx0V",
        "colab_type": "code",
        "colab": {}
      },
      "source": [
        "hypothesis = tf.sigmoid(tf.matmul(X, W) + b)"
      ],
      "execution_count": 5,
      "outputs": []
    },
    {
      "cell_type": "code",
      "metadata": {
        "id": "brHoC40CS0n8",
        "colab_type": "code",
        "colab": {}
      },
      "source": [
        "cost = -tf.reduce_mean(Y * tf.log(hypothesis) + (1 - Y) * (tf.log(1 - hypothesis)))\n",
        " \n",
        "\n",
        "train = tf.train.GradientDescentOptimizer(learning_rate=0.01).minimize(cost)\n",
        " \n",
        "\n",
        "predicted = tf.cast(hypothesis > 0.5, dtype=tf.float32)\n",
        "\n",
        "accuracy = tf.reduce_mean(tf.cast(tf.equal(predicted, Y), dtype=tf.float32))"
      ],
      "execution_count": 6,
      "outputs": []
    },
    {
      "cell_type": "markdown",
      "metadata": {
        "id": "sKwyER6xS6kI",
        "colab_type": "text"
      },
      "source": [
        "### Train !"
      ]
    },
    {
      "cell_type": "code",
      "metadata": {
        "id": "ELixww5BS6Ga",
        "colab_type": "code",
        "colab": {}
      },
      "source": [
        "sess = tf.InteractiveSession()"
      ],
      "execution_count": 7,
      "outputs": []
    },
    {
      "cell_type": "code",
      "metadata": {
        "id": "ODWigO3tS-6d",
        "colab_type": "code",
        "colab": {}
      },
      "source": [
        "sess.run(tf.global_variables_initializer())"
      ],
      "execution_count": 8,
      "outputs": []
    },
    {
      "cell_type": "code",
      "metadata": {
        "id": "eKXfPJ4BTAGk",
        "colab_type": "code",
        "colab": {
          "base_uri": "https://localhost:8080/",
          "height": 210
        },
        "outputId": "e4ccc8eb-2478-4712-b57d-f3b76379a410"
      },
      "source": [
        "for step in range(10001):\n",
        "    cost_val,  _ = sess.run([cost, train], feed_dict={X:x_data, Y:y_data})\n",
        "\n",
        "    if step % 1000 == 0:\n",
        "        print(step, '\\t', cost_val)"
      ],
      "execution_count": 9,
      "outputs": [
        {
          "output_type": "stream",
          "text": [
            "0 \t 0.9062848\n",
            "1000 \t 0.42167628\n",
            "2000 \t 0.3527858\n",
            "3000 \t 0.3037829\n",
            "4000 \t 0.26550707\n",
            "5000 \t 0.23511304\n",
            "6000 \t 0.21061923\n",
            "7000 \t 0.19058098\n",
            "8000 \t 0.17394884\n",
            "9000 \t 0.15995803\n",
            "10000 \t 0.14804544\n"
          ],
          "name": "stdout"
        }
      ]
    },
    {
      "cell_type": "markdown",
      "metadata": {
        "id": "ZXnyaPF-TDKg",
        "colab_type": "text"
      },
      "source": [
        "### Test !"
      ]
    },
    {
      "cell_type": "code",
      "metadata": {
        "id": "l-iyV89CTFXB",
        "colab_type": "code",
        "colab": {
          "base_uri": "https://localhost:8080/",
          "height": 34
        },
        "outputId": "572f416f-f00a-45ae-ed2b-03aa0d00551d"
      },
      "source": [
        "sess.run(hypothesis,feed_dict={X:[[5,3]]} )"
      ],
      "execution_count": 10,
      "outputs": [
        {
          "output_type": "execute_result",
          "data": {
            "text/plain": [
              "array([[0.9404148]], dtype=float32)"
            ]
          },
          "metadata": {
            "tags": []
          },
          "execution_count": 10
        }
      ]
    }
  ]
}