{
  "nbformat": 4,
  "nbformat_minor": 0,
  "metadata": {
    "colab": {
      "name": "KMeans.ipynb.blobs",
      "provenance": [],
      "collapsed_sections": []
    },
    "kernelspec": {
      "name": "python3",
      "display_name": "Python 3"
    }
  },
  "cells": [
    {
      "cell_type": "markdown",
      "metadata": {
        "id": "ErpqVGi5g8M2",
        "colab_type": "text"
      },
      "source": [
        ""
      ]
    },
    {
      "cell_type": "code",
      "metadata": {
        "id": "wAziDlK1RiOd",
        "colab_type": "code",
        "colab": {
          "base_uri": "https://localhost:8080/",
          "height": 72
        },
        "outputId": "c98296c1-01ef-4e11-e769-db8da112cc45"
      },
      "source": [
        "import matplotlib.pyplot as plt\n",
        "from sklearn.cluster import KMeans\n",
        "from sklearn.datasets.samples_generator import make_blobs\n",
        "import numpy as np"
      ],
      "execution_count": 1,
      "outputs": [
        {
          "output_type": "stream",
          "text": [
            "/usr/local/lib/python3.6/dist-packages/sklearn/utils/deprecation.py:144: FutureWarning: The sklearn.datasets.samples_generator module is  deprecated in version 0.22 and will be removed in version 0.24. The corresponding classes / functions should instead be imported from sklearn.datasets. Anything that cannot be imported from sklearn.datasets is now part of the private API.\n",
            "  warnings.warn(message, FutureWarning)\n"
          ],
          "name": "stderr"
        }
      ]
    },
    {
      "cell_type": "code",
      "metadata": {
        "id": "AqKBHgYVVJrU",
        "colab_type": "code",
        "colab": {}
      },
      "source": [
        "data, _ = make_blobs(n_samples=1000, centers=10, cluster_std=0.60, random_state=0)"
      ],
      "execution_count": 2,
      "outputs": []
    },
    {
      "cell_type": "code",
      "metadata": {
        "id": "7RGS6S2FTD2w",
        "colab_type": "code",
        "colab": {
          "base_uri": "https://localhost:8080/",
          "height": 34
        },
        "outputId": "2b629212-800d-4b5a-8516-299785e76c6c"
      },
      "source": [
        "data.shape"
      ],
      "execution_count": 3,
      "outputs": [
        {
          "output_type": "execute_result",
          "data": {
            "text/plain": [
              "(1000, 2)"
            ]
          },
          "metadata": {
            "tags": []
          },
          "execution_count": 3
        }
      ]
    },
    {
      "cell_type": "code",
      "metadata": {
        "id": "YLJsomISRva9",
        "colab_type": "code",
        "colab": {
          "base_uri": "https://localhost:8080/",
          "height": 297
        },
        "outputId": "bf84a6dc-47c1-4cef-b175-0697a88752aa"
      },
      "source": [
        "plt.plot(data[:,0],data[:,1],'.')\n",
        "plt.xlabel('X')\n",
        "plt.ylabel('Y')"
      ],
      "execution_count": 4,
      "outputs": [
        {
          "output_type": "execute_result",
          "data": {
            "text/plain": [
              "Text(0, 0.5, 'Y')"
            ]
          },
          "metadata": {
            "tags": []
          },
          "execution_count": 4
        },
        {
          "output_type": "display_data",
          "data": {
            "image/png": "[encoded data removed]",
            "text/plain": [
              "<Figure size 432x288 with 1 Axes>"
            ]
          },
          "metadata": {
            "tags": [],
            "needs_background": "light"
          }
        }
      ]
    },
    {
      "cell_type": "code",
      "metadata": {
        "id": "mxpnxkaAShxg",
        "colab_type": "code",
        "colab": {
          "base_uri": "https://localhost:8080/",
          "height": 52
        },
        "outputId": "b44a4d68-7158-4324-e37d-c230ddd9645e"
      },
      "source": [
        "%%time\n",
        "kmeans = KMeans(n_clusters=10)\n",
        "kmeans.fit(data)"
      ],
      "execution_count": 5,
      "outputs": [
        {
          "output_type": "stream",
          "text": [
            "CPU times: user 71.2 ms, sys: 760 µs, total: 71.9 ms\n",
            "Wall time: 76.7 ms\n"
          ],
          "name": "stdout"
        }
      ]
    },
    {
      "cell_type": "code",
      "metadata": {
        "id": "dYyvIkokT3mj",
        "colab_type": "code",
        "colab": {
          "base_uri": "https://localhost:8080/",
          "height": 193
        },
        "outputId": "26bf170a-7b08-4c22-8b89-702b605e3beb"
      },
      "source": [
        "centroids = kmeans.cluster_centers_\n",
        "print(centroids)"
      ],
      "execution_count": 6,
      "outputs": [
        {
          "output_type": "stream",
          "text": [
            "[[-1.25697388  7.78224426]\n",
            " [ 1.94918696  0.84606322]\n",
            " [-8.63656453 -8.21379052]\n",
            " [ 9.27556149 -2.27164125]\n",
            " [ 5.60838429  7.30648853]\n",
            " [ 1.34843461  8.52596462]\n",
            " [-9.65675125  6.72180531]\n",
            " [-1.63662057  2.84324143]\n",
            " [ 6.00491553  0.51916151]\n",
            " [ 0.94063011  4.33625244]]\n"
          ],
          "name": "stdout"
        }
      ]
    },
    {
      "cell_type": "code",
      "metadata": {
        "id": "JgTWPsi3XG93",
        "colab_type": "code",
        "colab": {
          "base_uri": "https://localhost:8080/",
          "height": 34
        },
        "outputId": "43bf20e0-a8fe-40c8-916a-6bf79f27f409"
      },
      "source": [
        "kmeans.inertia_"
      ],
      "execution_count": 7,
      "outputs": [
        {
          "output_type": "execute_result",
          "data": {
            "text/plain": [
              "676.5824447359606"
            ]
          },
          "metadata": {
            "tags": []
          },
          "execution_count": 7
        }
      ]
    },
    {
      "cell_type": "code",
      "metadata": {
        "id": "rZHqeq27XkBf",
        "colab_type": "code",
        "colab": {
          "base_uri": "https://localhost:8080/",
          "height": 826
        },
        "outputId": "8271b0a5-736f-45b6-e5b0-ef2b13af78bf"
      },
      "source": [
        "kmeans.labels_"
      ],
      "execution_count": 8,
      "outputs": [
        {
          "output_type": "execute_result",
          "data": {
            "text/plain": [
              "array([5, 7, 9, 8, 1, 0, 1, 8, 8, 4, 5, 4, 2, 9, 8, 9, 7, 2, 8, 0, 7, 1,\n",
              "       9, 0, 6, 5, 9, 4, 7, 3, 3, 9, 1, 5, 9, 6, 8, 8, 9, 0, 4, 9, 6, 2,\n",
              "       6, 9, 8, 1, 0, 7, 2, 9, 3, 8, 4, 4, 0, 2, 8, 5, 1, 0, 6, 9, 6, 8,\n",
              "       6, 6, 6, 2, 6, 8, 7, 1, 4, 5, 2, 7, 1, 9, 3, 5, 5, 0, 7, 1, 7, 8,\n",
              "       6, 8, 6, 5, 0, 0, 6, 5, 4, 7, 5, 1, 0, 1, 3, 8, 7, 9, 9, 9, 2, 8,\n",
              "       2, 1, 9, 0, 6, 9, 2, 2, 6, 5, 8, 5, 8, 6, 8, 8, 1, 4, 9, 4, 2, 0,\n",
              "       2, 7, 4, 7, 7, 5, 1, 5, 4, 7, 3, 4, 1, 5, 8, 6, 0, 8, 2, 1, 8, 9,\n",
              "       9, 7, 1, 2, 3, 1, 4, 3, 7, 6, 9, 2, 8, 0, 1, 0, 6, 7, 1, 3, 9, 1,\n",
              "       7, 1, 1, 9, 0, 5, 5, 0, 1, 6, 1, 9, 1, 3, 5, 4, 6, 1, 2, 4, 2, 7,\n",
              "       4, 8, 1, 8, 4, 6, 4, 0, 1, 6, 1, 2, 1, 4, 4, 3, 5, 5, 6, 0, 1, 3,\n",
              "       2, 1, 2, 4, 3, 4, 8, 4, 6, 3, 4, 0, 9, 7, 1, 6, 5, 6, 0, 3, 2, 5,\n",
              "       2, 9, 4, 1, 4, 5, 9, 5, 7, 7, 7, 6, 0, 2, 4, 7, 1, 1, 0, 6, 0, 5,\n",
              "       1, 4, 6, 2, 9, 5, 6, 8, 1, 4, 9, 8, 0, 1, 3, 8, 7, 4, 1, 4, 4, 2,\n",
              "       4, 1, 0, 5, 6, 2, 6, 8, 0, 7, 3, 4, 0, 1, 5, 8, 5, 1, 6, 8, 8, 3,\n",
              "       1, 6, 2, 3, 0, 7, 1, 4, 7, 3, 5, 2, 3, 2, 0, 7, 1, 2, 9, 9, 1, 4,\n",
              "       0, 6, 9, 5, 2, 1, 8, 9, 4, 7, 3, 3, 1, 3, 6, 5, 8, 8, 7, 5, 6, 8,\n",
              "       2, 2, 9, 8, 1, 5, 9, 3, 6, 7, 2, 0, 2, 8, 3, 7, 6, 7, 6, 7, 9, 6,\n",
              "       3, 0, 6, 1, 9, 1, 0, 9, 4, 6, 5, 4, 6, 6, 1, 6, 7, 4, 0, 8, 0, 8,\n",
              "       7, 6, 3, 6, 1, 3, 5, 8, 7, 0, 4, 6, 6, 8, 3, 2, 0, 4, 5, 4, 6, 0,\n",
              "       0, 9, 3, 4, 1, 4, 8, 5, 8, 9, 1, 9, 8, 6, 1, 8, 8, 2, 1, 1, 5, 7,\n",
              "       6, 9, 8, 5, 4, 6, 1, 2, 8, 1, 1, 6, 3, 8, 0, 4, 1, 2, 1, 3, 4, 3,\n",
              "       4, 4, 6, 8, 7, 0, 9, 9, 9, 8, 3, 1, 6, 8, 3, 8, 7, 5, 7, 7, 5, 3,\n",
              "       7, 8, 4, 3, 4, 6, 6, 3, 1, 5, 9, 7, 7, 5, 1, 9, 0, 2, 8, 2, 7, 4,\n",
              "       9, 7, 7, 6, 5, 5, 7, 4, 3, 4, 7, 4, 1, 3, 9, 5, 3, 4, 7, 6, 5, 3,\n",
              "       3, 4, 6, 4, 1, 2, 9, 9, 2, 3, 1, 3, 9, 8, 8, 5, 5, 5, 2, 5, 8, 9,\n",
              "       4, 3, 0, 7, 1, 1, 3, 9, 2, 5, 5, 7, 8, 9, 6, 8, 4, 0, 6, 8, 0, 7,\n",
              "       7, 4, 8, 4, 7, 7, 3, 2, 8, 4, 6, 6, 7, 8, 2, 5, 0, 3, 7, 0, 7, 9,\n",
              "       3, 6, 4, 5, 0, 9, 9, 2, 5, 9, 2, 7, 2, 9, 5, 5, 2, 2, 4, 6, 3, 0,\n",
              "       9, 5, 7, 2, 2, 7, 0, 9, 2, 2, 9, 3, 8, 8, 1, 7, 0, 5, 4, 6, 3, 2,\n",
              "       4, 4, 0, 9, 6, 2, 2, 5, 4, 9, 9, 3, 3, 3, 5, 8, 0, 1, 7, 9, 1, 9,\n",
              "       6, 6, 2, 1, 8, 0, 4, 6, 9, 8, 4, 1, 2, 2, 5, 9, 3, 5, 5, 9, 8, 5,\n",
              "       8, 4, 1, 4, 5, 0, 7, 3, 6, 3, 2, 9, 0, 6, 7, 7, 7, 5, 8, 1, 5, 5,\n",
              "       6, 7, 2, 4, 3, 3, 7, 7, 3, 2, 5, 9, 1, 2, 3, 6, 9, 0, 6, 3, 2, 7,\n",
              "       7, 7, 7, 0, 5, 6, 0, 8, 9, 6, 3, 0, 2, 0, 6, 3, 9, 4, 7, 3, 8, 9,\n",
              "       9, 6, 7, 9, 1, 3, 5, 7, 1, 6, 8, 3, 2, 5, 0, 4, 0, 0, 1, 5, 3, 5,\n",
              "       0, 5, 0, 0, 7, 0, 9, 2, 2, 0, 3, 2, 4, 9, 3, 3, 3, 5, 1, 0, 7, 3,\n",
              "       0, 6, 4, 3, 0, 9, 6, 2, 1, 0, 4, 5, 7, 3, 2, 0, 6, 2, 9, 4, 1, 6,\n",
              "       2, 6, 0, 0, 8, 0, 6, 5, 9, 0, 4, 9, 0, 7, 8, 0, 8, 2, 0, 5, 2, 7,\n",
              "       2, 1, 6, 8, 2, 3, 0, 8, 0, 7, 7, 0, 2, 0, 8, 5, 9, 8, 3, 3, 6, 0,\n",
              "       0, 8, 5, 2, 5, 4, 8, 2, 4, 3, 7, 0, 6, 7, 5, 1, 2, 1, 6, 3, 5, 1,\n",
              "       2, 7, 9, 4, 2, 0, 4, 3, 8, 3, 2, 5, 0, 0, 7, 9, 3, 8, 2, 1, 7, 5,\n",
              "       2, 3, 1, 4, 3, 2, 4, 6, 7, 7, 9, 1, 4, 8, 6, 1, 9, 3, 8, 9, 3, 2,\n",
              "       5, 1, 6, 1, 0, 2, 3, 9, 1, 5, 5, 9, 2, 0, 9, 3, 7, 9, 7, 0, 0, 9,\n",
              "       2, 3, 4, 4, 7, 8, 2, 5, 3, 0, 3, 5, 9, 9, 4, 4, 4, 5, 8, 0, 9, 4,\n",
              "       2, 3, 0, 4, 2, 6, 5, 9, 8, 2, 6, 4, 6, 1, 5, 8, 1, 4, 8, 8, 5, 3,\n",
              "       8, 3, 7, 8, 3, 8, 0, 2, 3, 4], dtype=int32)"
            ]
          },
          "metadata": {
            "tags": []
          },
          "execution_count": 8
        }
      ]
    },
    {
      "cell_type": "code",
      "metadata": {
        "id": "ngmza197UGCp",
        "colab_type": "code",
        "colab": {
          "base_uri": "https://localhost:8080/",
          "height": 297
        },
        "outputId": "cfeea1d6-ec22-4083-ab3d-6742c8267ce0"
      },
      "source": [
        "#plt.plot(x, y, '.')\n",
        "plt.scatter(data[:,0],data[:,1],c=kmeans.labels_)\n",
        "plt.plot(centroids[:,0],centroids[:,1],'o')\n",
        "plt.xlabel('X')\n",
        "plt.ylabel('Y')"
      ],
      "execution_count": 9,
      "outputs": [
        {
          "output_type": "execute_result",
          "data": {
            "text/plain": [
              "Text(0, 0.5, 'Y')"
            ]
          },
          "metadata": {
            "tags": []
          },
          "execution_count": 9
        },
        {
          "output_type": "display_data",
          "data": {
            "image/png": "[encoded data removed]",
            "text/plain": [
              "<Figure size 432x288 with 1 Axes>"
            ]
          },
          "metadata": {
            "tags": [],
            "needs_background": "light"
          }
        }
      ]
    }
  ]
}