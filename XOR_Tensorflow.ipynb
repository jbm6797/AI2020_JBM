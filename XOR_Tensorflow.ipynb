{
  "nbformat": 4,
  "nbformat_minor": 0,
  "metadata": {
    "kernelspec": {
      "display_name": "Python 3",
      "language": "python",
      "name": "python3"
    },
    "language_info": {
      "codemirror_mode": {
        "name": "ipython",
        "version": 3
      },
      "file_extension": ".py",
      "mimetype": "text/x-python",
      "name": "python",
      "nbconvert_exporter": "python",
      "pygments_lexer": "ipython3",
      "version": "3.6.8"
    },
    "colab": {
      "name": "XOR_Tensorflow.ipynb",
      "provenance": [],
      "collapsed_sections": []
    }
  },
  "cells": [
    {
      "cell_type": "markdown",
      "metadata": {
        "id": "-FPRiUBzRSkN",
        "colab_type": "text"
      },
      "source": [
        "## XOR 이해하기"
      ]
    },
    {
      "cell_type": "code",
      "metadata": {
        "id": "iL655AacRSkc",
        "colab_type": "code",
        "colab": {
          "base_uri": "https://localhost:8080/",
          "height": 90
        },
        "outputId": "e1b95f11-acd2-484c-c55d-2740191b1d4f"
      },
      "source": [
        "#import tensorflow as tf\n",
        "import tensorflow.compat.v1 as tf\n",
        "tf.disable_v2_behavior()\n",
        "\n",
        "import numpy as np\n",
        "import matplotlib.pyplot as plt"
      ],
      "execution_count": 1,
      "outputs": [
        {
          "output_type": "stream",
          "text": [
            "WARNING:tensorflow:From /usr/local/lib/python3.6/dist-packages/tensorflow/python/compat/v2_compat.py:96: disable_resource_variables (from tensorflow.python.ops.variable_scope) is deprecated and will be removed in a future version.\n",
            "Instructions for updating:\n",
            "non-resource variables are not supported in the long term\n"
          ],
          "name": "stdout"
        }
      ]
    },
    {
      "cell_type": "code",
      "metadata": {
        "id": "KMre77IZxm6N",
        "colab_type": "code",
        "colab": {
          "base_uri": "https://localhost:8080/",
          "height": 34
        },
        "outputId": "2b0fb59e-a28c-4f72-ab7e-fa6c49f8793c"
      },
      "source": [
        "tf.__version__"
      ],
      "execution_count": 2,
      "outputs": [
        {
          "output_type": "execute_result",
          "data": {
            "text/plain": [
              "'2.2.0'"
            ]
          },
          "metadata": {
            "tags": []
          },
          "execution_count": 2
        }
      ]
    },
    {
      "cell_type": "markdown",
      "metadata": {
        "id": "WxPZO0G5RSk-",
        "colab_type": "text"
      },
      "source": [
        "1. AND 데이터로 바꾸어서 해보기\n",
        "2. XOR 데이터로 바꾸어서 해보기"
      ]
    },
    {
      "cell_type": "code",
      "metadata": {
        "id": "gfDvz7wIRSlI",
        "colab_type": "code",
        "colab": {}
      },
      "source": [
        "x_data = [[0, 0],\n",
        "          [0, 1],\n",
        "          [1, 0],\n",
        "          [1, 1]]\n",
        "\n",
        "y_data = [[0],\n",
        "          [1],\n",
        "          [1],\n",
        "          [0]]\n",
        "\n",
        "x_data = np.array(x_data, dtype=np.float32)\n",
        "y_data = np.array(y_data, dtype=np.float32)"
      ],
      "execution_count": 3,
      "outputs": []
    },
    {
      "cell_type": "code",
      "metadata": {
        "id": "nsqSEH9ERSl9",
        "colab_type": "code",
        "colab": {}
      },
      "source": [
        "X = tf.placeholder(tf.float32, [None, 2])\n",
        "Y = tf.placeholder(tf.float32, [None, 1])"
      ],
      "execution_count": 4,
      "outputs": []
    },
    {
      "cell_type": "markdown",
      "metadata": {
        "id": "ZOFZJfBLRSme",
        "colab_type": "text"
      },
      "source": [
        "* 안되는 네트워크 구조 예제. 되도록 고쳐봅시다. "
      ]
    },
    {
      "cell_type": "code",
      "metadata": {
        "id": "BkSzFCg3RSmk",
        "colab_type": "code",
        "colab": {}
      },
      "source": [
        "W = tf.Variable(tf.random_normal([2, 1]), name='weight')\n",
        "b = tf.Variable(tf.random_normal([1]), name='bias')\n",
        "hypothesis = tf.sigmoid(tf.matmul(X, W) + b)"
      ],
      "execution_count": 5,
      "outputs": []
    },
    {
      "cell_type": "code",
      "metadata": {
        "id": "d-tOweJwx1pH",
        "colab_type": "code",
        "colab": {}
      },
      "source": [
        "W1 = tf.Variable(tf.random_normal([2, 2]), name='weight1')\n",
        "b1 = tf.Variable(tf.random_normal([2]), name='bias1')\n",
        "layer1 = tf.sigmoid(tf.matmul(X, W1) + b1)\n",
        "W2 = tf.Variable(tf.random_normal([2, 1]), name='weight2')\n",
        "b2 = tf.Variable(tf.random_normal([1]), name='bias2')\n",
        "hypothesis = tf.sigmoid(tf.matmul(layer1, W2) + b2)"
      ],
      "execution_count": 6,
      "outputs": []
    },
    {
      "cell_type": "code",
      "metadata": {
        "id": "9fzvqdGTRSm-",
        "colab_type": "code",
        "colab": {}
      },
      "source": [
        "cost = -tf.reduce_mean(Y * tf.log(hypothesis) + (1 - Y) * tf.log(1 - hypothesis))\n",
        "train = tf.train.GradientDescentOptimizer(learning_rate=0.01).minimize(cost)"
      ],
      "execution_count": 7,
      "outputs": []
    },
    {
      "cell_type": "code",
      "metadata": {
        "id": "iqm6tUfuRSnM",
        "colab_type": "code",
        "colab": {}
      },
      "source": [
        "predicted = tf.cast(hypothesis > 0.5, dtype=tf.float32)\n",
        "accuracy = tf.reduce_mean(tf.cast(tf.equal(predicted, Y), dtype=tf.float32))"
      ],
      "execution_count": 8,
      "outputs": []
    },
    {
      "cell_type": "code",
      "metadata": {
        "id": "Vytv5X3WRSni",
        "colab_type": "code",
        "colab": {}
      },
      "source": [
        "sess = tf.Session()"
      ],
      "execution_count": 9,
      "outputs": []
    },
    {
      "cell_type": "code",
      "metadata": {
        "id": "IcBmuEf7RSn2",
        "colab_type": "code",
        "colab": {}
      },
      "source": [
        "sess.run(tf.global_variables_initializer())"
      ],
      "execution_count": 10,
      "outputs": []
    },
    {
      "cell_type": "code",
      "metadata": {
        "id": "iYbnrwijRSoH",
        "colab_type": "code",
        "colab": {}
      },
      "source": [
        "vcost =[]"
      ],
      "execution_count": 11,
      "outputs": []
    },
    {
      "cell_type": "code",
      "metadata": {
        "id": "7EZPKh5WRSoV",
        "colab_type": "code",
        "colab": {
          "base_uri": "https://localhost:8080/",
          "height": 210
        },
        "outputId": "4f2a426c-aad7-4cd4-89fc-cae0f181f70d"
      },
      "source": [
        "for step in range(10001):\n",
        "\n",
        "    cost1, _ = sess.run([cost, train], feed_dict={X: x_data, Y: y_data})\n",
        "    vcost.append(cost1)\n",
        "    if step %1000 ==0:\n",
        "        \n",
        "        print(cost1)"
      ],
      "execution_count": 12,
      "outputs": [
        {
          "output_type": "stream",
          "text": [
            "0.6945386\n",
            "0.693847\n",
            "0.69375557\n",
            "0.6936778\n",
            "0.6936114\n",
            "0.69355416\n",
            "0.6935047\n",
            "0.6934618\n",
            "0.69342434\n",
            "0.69339156\n",
            "0.69336265\n"
          ],
          "name": "stdout"
        }
      ]
    },
    {
      "cell_type": "code",
      "metadata": {
        "id": "jcRZr3d8RSo2",
        "colab_type": "code",
        "colab": {
          "base_uri": "https://localhost:8080/",
          "height": 313
        },
        "outputId": "09c45062-2dd4-4034-e900-803afb7f968b"
      },
      "source": [
        "plt.plot(vcost)\n",
        "plt.title('Cost')\n",
        "plt.xlabel('epoch')"
      ],
      "execution_count": 13,
      "outputs": [
        {
          "output_type": "execute_result",
          "data": {
            "text/plain": [
              "Text(0.5, 0, 'epoch')"
            ]
          },
          "metadata": {
            "tags": []
          },
          "execution_count": 13
        },
        {
          "output_type": "display_data",
          "data": {
            "image/png": "[encoded data removed]",
            "text/plain": [
              "<Figure size 432x288 with 1 Axes>"
            ]
          },
          "metadata": {
            "tags": [],
            "needs_background": "light"
          }
        }
      ]
    },
    {
      "cell_type": "code",
      "metadata": {
        "id": "WR5MlJeQRSpZ",
        "colab_type": "code",
        "colab": {}
      },
      "source": [
        "test1 = sess.run(hypothesis, feed_dict={X:[[0.1,0]]})"
      ],
      "execution_count": 14,
      "outputs": []
    },
    {
      "cell_type": "code",
      "metadata": {
        "id": "lkZh41H9RSqs",
        "colab_type": "code",
        "colab": {
          "base_uri": "https://localhost:8080/",
          "height": 34
        },
        "outputId": "de583c83-303f-406f-f235-48d65c3c0069"
      },
      "source": [
        "print(test1[0][0])"
      ],
      "execution_count": 15,
      "outputs": [
        {
          "output_type": "stream",
          "text": [
            "0.49764538\n"
          ],
          "name": "stdout"
        }
      ]
    },
    {
      "cell_type": "code",
      "metadata": {
        "id": "VP7ri07fRSrr",
        "colab_type": "code",
        "colab": {}
      },
      "source": [
        "test1 = sess.run(hypothesis, feed_dict={X:[[0.1,0]]})"
      ],
      "execution_count": 16,
      "outputs": []
    }
  ]
}