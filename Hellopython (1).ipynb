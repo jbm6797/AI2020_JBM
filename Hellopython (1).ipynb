{
  "nbformat": 4,
  "nbformat_minor": 0,
  "metadata": {
    "colab": {
      "name": "Hellopython.ipynb",
      "provenance": [],
      "collapsed_sections": []
    },
    "kernelspec": {
      "name": "python3",
      "display_name": "Python 3"
    }
  },
  "cells": [
    {
      "cell_type": "markdown",
      "metadata": {
        "id": "t67JbcjkyNLf",
        "colab_type": "text"
      },
      "source": [
        "**Basic data types**"
      ]
    },
    {
      "cell_type": "code",
      "metadata": {
        "id": "Rf2qj9rEyN-B",
        "colab_type": "code",
        "colab": {
          "base_uri": "https://localhost:8080/",
          "height": 193
        },
        "outputId": "30d91c45-546d-4078-ca62-139f03026fd4"
      },
      "source": [
        "x = 3\n",
        "print(type(x)) # Prints \"<class 'int'>\"\n",
        "print(x) # Prints \"3\"\n",
        "print(x + 1) # Addition; prints \"4\"\n",
        "print(x - 1) # Subtraction; prints \"2\"\n",
        "print(x * 2) # Multiplication; prints \"6\"\n",
        "print(x ** 2) # Exponentiation; prints \"9\"\n",
        "x += 1\n",
        "print(x) # Prints \"4\"\n",
        "x *= 2\n",
        "print(x) # Prints \"8\"\n",
        "y = 2.5\n",
        "print(type(y)) # Prints \"<class 'float'>\"\n",
        "print(y, y + 1, y * 2, y ** 2) # Prints \"2.5 3.5 5.0 6.25\""
      ],
      "execution_count": 1,
      "outputs": [
        {
          "output_type": "stream",
          "text": [
            "<class 'int'>\n",
            "3\n",
            "4\n",
            "2\n",
            "6\n",
            "9\n",
            "4\n",
            "8\n",
            "<class 'float'>\n",
            "2.5 3.5 5.0 6.25\n"
          ],
          "name": "stdout"
        }
      ]
    },
    {
      "cell_type": "markdown",
      "metadata": {
        "id": "PqzRCasNybAI",
        "colab_type": "text"
      },
      "source": [
        "**For statement**"
      ]
    },
    {
      "cell_type": "code",
      "metadata": {
        "id": "qTZnqz7SyIJN",
        "colab_type": "code",
        "colab": {
          "base_uri": "https://localhost:8080/",
          "height": 52
        },
        "outputId": "e55db3ef-0f9b-4c62-c217-2eb5a45fe1ac"
      },
      "source": [
        "A = range(5)\n",
        "print(A)\n",
        "\n",
        "print(A[2])"
      ],
      "execution_count": 2,
      "outputs": [
        {
          "output_type": "stream",
          "text": [
            "range(0, 5)\n",
            "2\n"
          ],
          "name": "stdout"
        }
      ]
    },
    {
      "cell_type": "code",
      "metadata": {
        "id": "Y4_om0Moyfkg",
        "colab_type": "code",
        "colab": {
          "base_uri": "https://localhost:8080/",
          "height": 105
        },
        "outputId": "aa4228f1-9c18-427c-8596-6fce753f710e"
      },
      "source": [
        "for i in range(5):\n",
        "  print(i, A[i])"
      ],
      "execution_count": 3,
      "outputs": [
        {
          "output_type": "stream",
          "text": [
            "0 0\n",
            "1 1\n",
            "2 2\n",
            "3 3\n",
            "4 4\n"
          ],
          "name": "stdout"
        }
      ]
    },
    {
      "cell_type": "markdown",
      "metadata": {
        "id": "EWKBurGNyiVq",
        "colab_type": "text"
      },
      "source": [
        "**Operators**"
      ]
    },
    {
      "cell_type": "code",
      "metadata": {
        "id": "9Ww4ea8Jykqb",
        "colab_type": "code",
        "colab": {
          "base_uri": "https://localhost:8080/",
          "height": 70
        },
        "outputId": "b5b44210-632b-4d46-dc29-be249e6910c7"
      },
      "source": [
        "print((1, 2, 3) + (4, 5, 6))\n",
        "print([1, 2, 3] + [4, 5, 6])\n",
        "print(\"Hello\" + \" \" + \"World\")"
      ],
      "execution_count": 4,
      "outputs": [
        {
          "output_type": "stream",
          "text": [
            "(1, 2, 3, 4, 5, 6)\n",
            "[1, 2, 3, 4, 5, 6]\n",
            "Hello World\n"
          ],
          "name": "stdout"
        }
      ]
    },
    {
      "cell_type": "code",
      "metadata": {
        "id": "QaRonjNzymo2",
        "colab_type": "code",
        "colab": {
          "base_uri": "https://localhost:8080/",
          "height": 70
        },
        "outputId": "e378bce5-ae48-41f0-ce40-8a3b02d9defa"
      },
      "source": [
        "print((1, 2, 3) * 3)\n",
        "print([1, 2, 3] * 3)\n",
        "print(\"Hello \"*3)"
      ],
      "execution_count": 5,
      "outputs": [
        {
          "output_type": "stream",
          "text": [
            "(1, 2, 3, 1, 2, 3, 1, 2, 3)\n",
            "[1, 2, 3, 1, 2, 3, 1, 2, 3]\n",
            "Hello Hello Hello \n"
          ],
          "name": "stdout"
        }
      ]
    },
    {
      "cell_type": "code",
      "metadata": {
        "id": "bLXDHfanypUp",
        "colab_type": "code",
        "colab": {
          "base_uri": "https://localhost:8080/",
          "height": 52
        },
        "outputId": "db5f3ab6-6bbc-4a57-b709-b976088b419b"
      },
      "source": [
        "# -*- coding: utf-8 -*-\n",
        "# creating a tuple\n",
        "months = ('January','February','March','April','May','June',\\\n",
        "'July','August','September','October','November','December')\n",
        "print(months[0])\n",
        "print(\"index of 7 ==> \" , months[7])"
      ],
      "execution_count": 6,
      "outputs": [
        {
          "output_type": "stream",
          "text": [
            "January\n",
            "index of 7 ==>  August\n"
          ],
          "name": "stdout"
        }
      ]
    },
    {
      "cell_type": "code",
      "metadata": {
        "id": "bn_I7_tfyrfg",
        "colab_type": "code",
        "colab": {
          "base_uri": "https://localhost:8080/",
          "height": 228
        },
        "outputId": "3b53eebf-9bf9-4fbc-ea90-7ceb0950efd3"
      },
      "source": [
        "# iterate through them:\n",
        "for item in months:\n",
        "  print (item)"
      ],
      "execution_count": 7,
      "outputs": [
        {
          "output_type": "stream",
          "text": [
            "January\n",
            "February\n",
            "March\n",
            "April\n",
            "May\n",
            "June\n",
            "July\n",
            "August\n",
            "September\n",
            "October\n",
            "November\n",
            "December\n"
          ],
          "name": "stdout"
        }
      ]
    },
    {
      "cell_type": "code",
      "metadata": {
        "id": "49kaN--3yv-X",
        "colab_type": "code",
        "colab": {
          "base_uri": "https://localhost:8080/",
          "height": 140
        },
        "outputId": "df8c2715-91fe-45a1-8d39-6f007699f499"
      },
      "source": [
        "t = ('john', 32, (2,3,4,5), 'hello')\n",
        "print(t)\n",
        "print(t[2])\n",
        "print(t[2][1])\n",
        "print(t[:2]) # index 포함 X\n",
        "print(t[2:]) # index 포함 O\n",
        "print(t[-1])\n",
        "print(t[-2])"
      ],
      "execution_count": 8,
      "outputs": [
        {
          "output_type": "stream",
          "text": [
            "('john', 32, (2, 3, 4, 5), 'hello')\n",
            "(2, 3, 4, 5)\n",
            "3\n",
            "('john', 32)\n",
            "((2, 3, 4, 5), 'hello')\n",
            "hello\n",
            "(2, 3, 4, 5)\n"
          ],
          "name": "stdout"
        }
      ]
    },
    {
      "cell_type": "code",
      "metadata": {
        "id": "FbXVuTCdyyTV",
        "colab_type": "code",
        "colab": {
          "base_uri": "https://localhost:8080/",
          "height": 70
        },
        "outputId": "b9462730-acee-46e3-f073-4f30c095df6c"
      },
      "source": [
        "li = ['hallym', 1, 3.141572, 'hello']\n",
        "print(li)\n",
        "li[1] = 45\n",
        "print(li)\n",
        "li.append('September')\n",
        "print(li)"
      ],
      "execution_count": 9,
      "outputs": [
        {
          "output_type": "stream",
          "text": [
            "['hallym', 1, 3.141572, 'hello']\n",
            "['hallym', 45, 3.141572, 'hello']\n",
            "['hallym', 45, 3.141572, 'hello', 'September']\n"
          ],
          "name": "stdout"
        }
      ]
    },
    {
      "cell_type": "code",
      "metadata": {
        "id": "ibOyJjk5y0uE",
        "colab_type": "code",
        "colab": {
          "base_uri": "https://localhost:8080/",
          "height": 70
        },
        "outputId": "64889235-f295-4b98-e468-b0175ae8b4a9"
      },
      "source": [
        "v = []\n",
        "for i in range(0,3):\n",
        "  v.append(i)\n",
        "  print(v)"
      ],
      "execution_count": 10,
      "outputs": [
        {
          "output_type": "stream",
          "text": [
            "[0]\n",
            "[0, 1]\n",
            "[0, 1, 2]\n"
          ],
          "name": "stdout"
        }
      ]
    }
  ]
}