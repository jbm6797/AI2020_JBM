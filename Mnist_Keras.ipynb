{
  "nbformat": 4,
  "nbformat_minor": 0,
  "metadata": {
    "colab": {
      "name": "Mnist_Keras.ipynb",
      "provenance": [],
      "collapsed_sections": []
    },
    "kernelspec": {
      "name": "python3",
      "display_name": "Python 3"
    }
  },
  "cells": [
    {
      "cell_type": "markdown",
      "metadata": {
        "id": "Hz5z-IJq0176",
        "colab_type": "text"
      },
      "source": [
        "**Mnist 분류기**"
      ]
    },
    {
      "cell_type": "code",
      "metadata": {
        "id": "GaPf2Bea0ygV",
        "colab_type": "code",
        "colab": {}
      },
      "source": [
        "from keras.datasets import mnist\n",
        "from keras.models import Sequential\n",
        "from keras.layers.core import Dense, Activation\n",
        "from keras.utils import np_utils"
      ],
      "execution_count": 18,
      "outputs": []
    },
    {
      "cell_type": "code",
      "metadata": {
        "id": "5Cb-l6Ov1Gla",
        "colab_type": "code",
        "colab": {}
      },
      "source": [
        "(X_train, Y_train), (X_test, Y_test) = mnist.load_data()"
      ],
      "execution_count": 19,
      "outputs": []
    },
    {
      "cell_type": "code",
      "metadata": {
        "id": "ujTxK_LN1IE8",
        "colab_type": "code",
        "colab": {
          "base_uri": "https://localhost:8080/",
          "height": 34
        },
        "outputId": "479c8d0e-54f8-4582-cd12-942cf20ff474"
      },
      "source": [
        "X_train.shape"
      ],
      "execution_count": 20,
      "outputs": [
        {
          "output_type": "execute_result",
          "data": {
            "text/plain": [
              "(60000, 28, 28)"
            ]
          },
          "metadata": {
            "tags": []
          },
          "execution_count": 20
        }
      ]
    },
    {
      "cell_type": "code",
      "metadata": {
        "id": "XVFpp2yv1KIu",
        "colab_type": "code",
        "colab": {
          "base_uri": "https://localhost:8080/",
          "height": 34
        },
        "outputId": "be031dbf-a93c-4043-b9e9-2e8607804ba8"
      },
      "source": [
        "28*28"
      ],
      "execution_count": 21,
      "outputs": [
        {
          "output_type": "execute_result",
          "data": {
            "text/plain": [
              "784"
            ]
          },
          "metadata": {
            "tags": []
          },
          "execution_count": 21
        }
      ]
    },
    {
      "cell_type": "code",
      "metadata": {
        "id": "G5d26ZzU1Lr4",
        "colab_type": "code",
        "colab": {
          "base_uri": "https://localhost:8080/",
          "height": 34
        },
        "outputId": "ad62b9c3-1f8a-42fe-f03d-911b7b690dde"
      },
      "source": [
        "Y_train.shape"
      ],
      "execution_count": 22,
      "outputs": [
        {
          "output_type": "execute_result",
          "data": {
            "text/plain": [
              "(60000,)"
            ]
          },
          "metadata": {
            "tags": []
          },
          "execution_count": 22
        }
      ]
    },
    {
      "cell_type": "code",
      "metadata": {
        "id": "DxWMGkOP1OOA",
        "colab_type": "code",
        "colab": {
          "base_uri": "https://localhost:8080/",
          "height": 34
        },
        "outputId": "e7777b76-1d99-4efc-e1c6-32a39903fa5f"
      },
      "source": [
        "Y_train[1]"
      ],
      "execution_count": 23,
      "outputs": [
        {
          "output_type": "execute_result",
          "data": {
            "text/plain": [
              "0"
            ]
          },
          "metadata": {
            "tags": []
          },
          "execution_count": 23
        }
      ]
    },
    {
      "cell_type": "code",
      "metadata": {
        "id": "dD5RwNT71Pjv",
        "colab_type": "code",
        "colab": {}
      },
      "source": [
        "X_train = X_train.reshape(60000, 784)\n",
        "X_test = X_test.reshape(10000, 784)\n",
        "X_train = X_train.astype('float32')\n",
        "X_test = X_test.astype('float32')\n",
        "X_train /= 255\n",
        "X_test /= 255"
      ],
      "execution_count": 24,
      "outputs": []
    },
    {
      "cell_type": "code",
      "metadata": {
        "id": "6zC7Hx4a1Rfs",
        "colab_type": "code",
        "colab": {
          "base_uri": "https://localhost:8080/",
          "height": 34
        },
        "outputId": "ae3b8fd2-fb90-45c1-e81c-66fac1a99dda"
      },
      "source": [
        "28*28"
      ],
      "execution_count": 25,
      "outputs": [
        {
          "output_type": "execute_result",
          "data": {
            "text/plain": [
              "784"
            ]
          },
          "metadata": {
            "tags": []
          },
          "execution_count": 25
        }
      ]
    },
    {
      "cell_type": "code",
      "metadata": {
        "id": "cM8qe-g61S9y",
        "colab_type": "code",
        "colab": {
          "base_uri": "https://localhost:8080/",
          "height": 34
        },
        "outputId": "e9ab10c5-12c3-40c7-b1aa-b2726c8068c5"
      },
      "source": [
        "Y_train[3]"
      ],
      "execution_count": 26,
      "outputs": [
        {
          "output_type": "execute_result",
          "data": {
            "text/plain": [
              "1"
            ]
          },
          "metadata": {
            "tags": []
          },
          "execution_count": 26
        }
      ]
    },
    {
      "cell_type": "code",
      "metadata": {
        "id": "0YXXQ7vt1Uga",
        "colab_type": "code",
        "colab": {}
      },
      "source": [
        "classes = 10\n",
        "Y_train = np_utils.to_categorical(Y_train, classes)\n",
        "Y_test = np_utils.to_categorical(Y_test, classes)"
      ],
      "execution_count": 27,
      "outputs": []
    },
    {
      "cell_type": "code",
      "metadata": {
        "id": "Zg_k9Gyr1WIL",
        "colab_type": "code",
        "colab": {
          "base_uri": "https://localhost:8080/",
          "height": 34
        },
        "outputId": "18fb4fb8-5588-4bcd-ead4-f28484e0145c"
      },
      "source": [
        "Y_train[3]"
      ],
      "execution_count": 28,
      "outputs": [
        {
          "output_type": "execute_result",
          "data": {
            "text/plain": [
              "array([0., 1., 0., 0., 0., 0., 0., 0., 0., 0.], dtype=float32)"
            ]
          },
          "metadata": {
            "tags": []
          },
          "execution_count": 28
        }
      ]
    },
    {
      "cell_type": "code",
      "metadata": {
        "id": "vRKoEmEo1X3W",
        "colab_type": "code",
        "colab": {}
      },
      "source": [
        "input_size = 784\n",
        "batch_size = 100\n",
        "hidden_neurons = 400\n",
        "epochs = 5"
      ],
      "execution_count": 34,
      "outputs": []
    },
    {
      "cell_type": "code",
      "metadata": {
        "id": "jgGG6XSm1hsb",
        "colab_type": "code",
        "colab": {}
      },
      "source": [
        "model = Sequential()\n",
        "\n",
        "# 아래 test_mode 를 변경(0-->1, 혹은 1-->0)하고 해보세요. 마지막 정확도가 변하는지 확인해보세요\n",
        "\n",
        "test_mode = 0\n",
        "if test_mode ==0:\n",
        "  model.add(Dense(hidden_neurons, input_dim=input_size))\n",
        "  model.add(Activation('relu'))\n",
        "  model.add(Dense(classes))\n",
        "  model.add(Activation('softmax'))\n",
        "else:\n",
        "  model.add(Dense(classes, input_dim=input_size))\n",
        "  model.add(Activation('softmax'))"
      ],
      "execution_count": 35,
      "outputs": []
    },
    {
      "cell_type": "code",
      "metadata": {
        "id": "jQrljh7N1mLY",
        "colab_type": "code",
        "colab": {
          "base_uri": "https://localhost:8080/",
          "height": 533
        },
        "outputId": "fc7ab84e-c94d-4d79-a672-78530971e07d"
      },
      "source": [
        "from keras.utils import plot_model\n",
        "plot_model(model, to_file='model_mnist.png', show_shapes=True)"
      ],
      "execution_count": 36,
      "outputs": [
        {
          "output_type": "execute_result",
          "data": {
            "image/png": "[encoded data removed]",
            "text/plain": [
              "<IPython.core.display.Image object>"
            ]
          },
          "metadata": {
            "tags": []
          },
          "execution_count": 36
        }
      ]
    },
    {
      "cell_type": "code",
      "metadata": {
        "id": "YXR9DMV71pi3",
        "colab_type": "code",
        "colab": {}
      },
      "source": [
        "model.compile(loss='categorical_crossentropy',\n",
        "    metrics=['accuracy'], optimizer='adadelta')"
      ],
      "execution_count": 37,
      "outputs": []
    },
    {
      "cell_type": "code",
      "metadata": {
        "id": "Pgx3OaHb1sTw",
        "colab_type": "code",
        "colab": {
          "base_uri": "https://localhost:8080/",
          "height": 210
        },
        "outputId": "a6003d00-4592-44da-ca6a-0a852fb59b9e"
      },
      "source": [
        "model.fit(X_train, Y_train, batch_size=batch_size, epochs=epochs, verbose=1)"
      ],
      "execution_count": 38,
      "outputs": [
        {
          "output_type": "stream",
          "text": [
            "Epoch 1/5\n",
            "60000/60000 [==============================] - 5s 80us/step - loss: 0.2874 - accuracy: 0.9166\n",
            "Epoch 2/5\n",
            "60000/60000 [==============================] - 5s 77us/step - loss: 0.1257 - accuracy: 0.9644\n",
            "Epoch 3/5\n",
            "60000/60000 [==============================] - 4s 74us/step - loss: 0.0867 - accuracy: 0.9753\n",
            "Epoch 4/5\n",
            "60000/60000 [==============================] - 5s 77us/step - loss: 0.0653 - accuracy: 0.9812\n",
            "Epoch 5/5\n",
            "60000/60000 [==============================] - 5s 75us/step - loss: 0.0518 - accuracy: 0.9853\n"
          ],
          "name": "stdout"
        },
        {
          "output_type": "execute_result",
          "data": {
            "text/plain": [
              "<keras.callbacks.callbacks.History at 0x7f3719ba5630>"
            ]
          },
          "metadata": {
            "tags": []
          },
          "execution_count": 38
        }
      ]
    },
    {
      "cell_type": "code",
      "metadata": {
        "id": "KvfZOusJ1wD4",
        "colab_type": "code",
        "colab": {
          "base_uri": "https://localhost:8080/",
          "height": 70
        },
        "outputId": "c9c00441-6cd1-4b1a-fa6e-014d237c728a"
      },
      "source": [
        "score = model.evaluate(X_test, Y_test, verbose=1)\n",
        "print('\\n''Test accuracy:', score[1])\n",
        "#Test accuracy: 0.983"
      ],
      "execution_count": 39,
      "outputs": [
        {
          "output_type": "stream",
          "text": [
            "10000/10000 [==============================] - 0s 41us/step\n",
            "\n",
            "Test accuracy: 0.9789999723434448\n"
          ],
          "name": "stdout"
        }
      ]
    },
    {
      "cell_type": "code",
      "metadata": {
        "id": "JB-RrMPf18lO",
        "colab_type": "code",
        "colab": {}
      },
      "source": [
        "model = Sequential()\n",
        "\n",
        "# 아래 test_mode 를 변경(0-->1, 혹은 1-->0)하고 해보세요. 마지막 정확도가 변하는지 확인해보세요\n",
        "\n",
        "test_mode = 1\n",
        "if test_mode ==1:\n",
        "  model.add(Dense(hidden_neurons, input_dim=input_size))\n",
        "  model.add(Activation('relu'))\n",
        "  model.add(Dense(classes))\n",
        "  model.add(Activation('softmax'))\n",
        "else:\n",
        "  model.add(Dense(classes, input_dim=input_size))\n",
        "  model.add(Activation('softmax'))"
      ],
      "execution_count": 40,
      "outputs": []
    },
    {
      "cell_type": "code",
      "metadata": {
        "id": "TMfTy3ul1-Xh",
        "colab_type": "code",
        "colab": {
          "base_uri": "https://localhost:8080/",
          "height": 533
        },
        "outputId": "e690d49d-6e5e-4aa6-b944-7c5a71e297a7"
      },
      "source": [
        "from keras.utils import plot_model\n",
        "plot_model(model, to_file='model_mnist.png', show_shapes=True)"
      ],
      "execution_count": 41,
      "outputs": [
        {
          "output_type": "execute_result",
          "data": {
            "image/png": "[encoded data removed]",
            "text/plain": [
              "<IPython.core.display.Image object>"
            ]
          },
          "metadata": {
            "tags": []
          },
          "execution_count": 41
        }
      ]
    },
    {
      "cell_type": "code",
      "metadata": {
        "id": "zsTG8V4_2B8l",
        "colab_type": "code",
        "colab": {}
      },
      "source": [
        "model.compile(loss='categorical_crossentropy',\n",
        "    metrics=['accuracy'], optimizer='adadelta')"
      ],
      "execution_count": 42,
      "outputs": []
    },
    {
      "cell_type": "code",
      "metadata": {
        "id": "8tE0wsdI2EUI",
        "colab_type": "code",
        "colab": {
          "base_uri": "https://localhost:8080/",
          "height": 210
        },
        "outputId": "119d6c51-e7d5-40e1-8d49-98683cbab69b"
      },
      "source": [
        "model.fit(X_train, Y_train, batch_size=batch_size, epochs=epochs, verbose=1)"
      ],
      "execution_count": 43,
      "outputs": [
        {
          "output_type": "stream",
          "text": [
            "Epoch 1/5\n",
            "60000/60000 [==============================] - 5s 76us/step - loss: 0.2825 - accuracy: 0.9198\n",
            "Epoch 2/5\n",
            "60000/60000 [==============================] - 5s 76us/step - loss: 0.1220 - accuracy: 0.9645\n",
            "Epoch 3/5\n",
            "60000/60000 [==============================] - 5s 75us/step - loss: 0.0842 - accuracy: 0.9763\n",
            "Epoch 4/5\n",
            "60000/60000 [==============================] - 4s 72us/step - loss: 0.0633 - accuracy: 0.9823\n",
            "Epoch 5/5\n",
            "60000/60000 [==============================] - 4s 74us/step - loss: 0.0502 - accuracy: 0.9851\n"
          ],
          "name": "stdout"
        },
        {
          "output_type": "execute_result",
          "data": {
            "text/plain": [
              "<keras.callbacks.callbacks.History at 0x7f3718ba8da0>"
            ]
          },
          "metadata": {
            "tags": []
          },
          "execution_count": 43
        }
      ]
    },
    {
      "cell_type": "code",
      "metadata": {
        "id": "BktRGT5k2G1V",
        "colab_type": "code",
        "colab": {
          "base_uri": "https://localhost:8080/",
          "height": 70
        },
        "outputId": "6cfb1823-47c9-4e20-8d46-43d07b0075fe"
      },
      "source": [
        "score = model.evaluate(X_test, Y_test, verbose=1)\n",
        "print('\\n''Test accuracy:', score[1])\n",
        "#Test accuracy: 0.983"
      ],
      "execution_count": 44,
      "outputs": [
        {
          "output_type": "stream",
          "text": [
            "10000/10000 [==============================] - 0s 40us/step\n",
            "\n",
            "Test accuracy: 0.9761000275611877\n"
          ],
          "name": "stdout"
        }
      ]
    }
  ]
}